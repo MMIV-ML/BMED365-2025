{
 "cells": [
  {
   "cell_type": "markdown",
   "metadata": {},
   "source": [
    "# Read Patient1 IMC file\n",
    "\n",
    "version 2024-02-06 A.L."
   ]
  },
  {
   "cell_type": "code",
   "execution_count": 1,
   "metadata": {},
   "outputs": [],
   "source": [
    "import numpy as np"
   ]
  },
  {
   "cell_type": "code",
   "execution_count": 2,
   "metadata": {},
   "outputs": [
    {
     "name": "stdout",
     "output_type": "stream",
     "text": [
      "total 1296688\n",
      "drwxr-xr-x  14 arvid  staff        448 Oct 30  2020 \u001b[34m20201023_pilotTMA\u001b[m\u001b[m\n",
      "-rw-rw-r--@  1 arvid  staff  308296880 Nov 16  2021 Patient1.mcd\n",
      "-rw-rw-r--@  1 arvid  staff  118532798 Nov 16  2021 Patient1_pos1_1_1.txt\n",
      "-rw-rw-r--@  1 arvid  staff  118427612 Nov 16  2021 Patient1_pos1_2_2.txt\n",
      "-rw-rw-r--@  1 arvid  staff  118634929 Nov 16  2021 Patient1_pos1_3_3.txt\n",
      "-rw-r--r--@  1 arvid  staff       3198 Jan 29 10:03 panel.csv\n",
      "-rw-r--r--@  1 arvid  staff         83 Jan 29 09:59 sample_metadata.csv\n"
     ]
    }
   ],
   "source": [
    "!ls -l ../data"
   ]
  },
  {
   "cell_type": "code",
   "execution_count": 3,
   "metadata": {},
   "outputs": [],
   "source": [
    "from readimc import MCDFile, TXTFile"
   ]
  },
  {
   "cell_type": "code",
   "execution_count": 4,
   "metadata": {},
   "outputs": [],
   "source": [
    "mcd_fn = \"../data/Patient1.mcd\""
   ]
  },
  {
   "cell_type": "code",
   "execution_count": 5,
   "metadata": {},
   "outputs": [
    {
     "name": "stdout",
     "output_type": "stream",
     "text": [
      "Number of slides: 1\n"
     ]
    },
    {
     "data": {
      "text/plain": [
       "../data/Patient1.mcd"
      ]
     },
     "execution_count": 5,
     "metadata": {},
     "output_type": "execute_result"
    }
   ],
   "source": [
    "with MCDFile(mcd_fn) as f:\n",
    "    num_slides = len(f.slides)\n",
    "\n",
    "print(f\"Number of slides: {num_slides}\")\n",
    "f"
   ]
  },
  {
   "cell_type": "markdown",
   "metadata": {},
   "source": [
    "### Extracting metadata"
   ]
  },
  {
   "cell_type": "code",
   "execution_count": 6,
   "metadata": {},
   "outputs": [
    {
     "name": "stdout",
     "output_type": "stream",
     "text": [
      "first slide: 0, Slide, 75000.0, 25000.0\n",
      "first panorama of first slide: 1, wflow2.jpg, 75000.0, 24910.0\n",
      "\n",
      "first acquisition of first slide: 1, pos1_1, 600.0,600.0\n",
      "channel names (metals): ['ArAr80', 'Y89', 'In113', 'In115', 'Xe131', 'Xe134', 'Ba136', 'La138', 'Pr141', 'Nd142', 'Nd143', 'Nd144', 'Nd145', 'Nd146', 'Sm147', 'Nd148', 'Sm149', 'Nd150', 'Eu151', 'Sm152', 'Eu153', 'Sm154', 'Gd155', 'Gd156', 'Gd158', 'Tb159', 'Gd160', 'Dy161', 'Dy162', 'Dy163', 'Dy164', 'Ho165', 'Er166', 'Er167', 'Er168', 'Tm169', 'Er170', 'Yb171', 'Yb172', 'Yb173', 'Yb174', 'Lu175', 'Yb176', 'Ir191', 'Ir193', 'Pt196', 'Pb206']\n",
      "channel labels (targets): ['80ArAr', 'Myelope_276((2967))Y89', 'Histone_126((2979))In113', 'SMA_174((2780))In115', '131Xe', '134Xe', '136Ba', '138La', 'CD16_1820((2945))Pr141', 'CD38_1719((2961))Nd142', 'HLA-DR_1849((2953))Nd143', 'CD27_2231((2946))Nd144', 'CD15_627((2954))Nd145', 'CD45RA_732((2955))Nd146', 'CD163_1863((2947))Sm147', 'Beta-2M_1855((2962))Nd148', 'CD20_36((2980))Sm149', 'CD68_77((2963))Nd150', 'Indolea_2281((2981))Eu151', 'CD3_1841((2941))Sm152', 'LAG-3_1817((2982))Eu153', 'CD11c_2406((2983))Sm154', 'CD279(P_1743((2762))Gd155', 'CD140b(_1938((2948))Gd156', 'CD7_2258((2956))Gd158', 'Granzym_2215((2819))Tb159', 'CD274(B_2298((2949))Gd160', 'TCF1TCF_2221((2984))Dy161', 'CD45RO_2014((2950))Dy162', 'FOXP3_115((2942))Dy163', 'CD278(I_1815((2951))Dy164', 'CD8a_1718((2957))Ho165', 'Carboni_2443((2985))Er166', 'CD33_2237((2986))Er167', 'Ki-67_142((2965))Er168', 'VISTA_2024((2966))Tm169', 'CD40_2255((2821))Er170', 'CD4_2293((2943))Yb171', 'CD14_2275((2958))Yb172', 'E-Cadhe_103((2959))Yb173', 'CD303_2313((2952))Yb174', 'CD206(M_324((2960))Lu175', 'cleaved_198((2944))Yb176', 'DNA1', 'DNA2', '196Pt', '206Pb']\n",
      "\n",
      "second acquisition of first slide: 2, pos1_2, 600.0,600.0\n",
      "channel names (metals): Y89\n",
      "channel labels (targets): Myelope_276((2967))Y89\n"
     ]
    }
   ],
   "source": [
    "with MCDFile(mcd_fn) as f:\n",
    "    # first slide\n",
    "    slide = f.slides[0]\n",
    "    print(f'first slide: {slide.id}, {slide.description}, {slide.width_um}, {slide.height_um}')\n",
    "\n",
    "    # first panorama of first slide\n",
    "    panorama = slide.panoramas[0]\n",
    "    print(f'first panorama of first slide: {panorama.id}, {panorama.description}, {panorama.width_um}, {panorama.height_um}')\n",
    "\n",
    "    # first acquisition of first slide\n",
    "    acquisition = slide.acquisitions[0]\n",
    "    print(f'\\nfirst acquisition of first slide: {acquisition.id}, {acquisition.description}, {acquisition.width_um},{acquisition.height_um}')\n",
    "    print(f'channel names (metals): {acquisition.channel_names}')\n",
    "    print(f'channel labels (targets): {acquisition.channel_labels}')\n",
    "\n",
    "    # second acquisition of first slide\n",
    "    acquisition = slide.acquisitions[1]\n",
    "    print(f'\\nsecond acquisition of first slide: {acquisition.id}, {acquisition.description}, {acquisition.width_um},{acquisition.height_um}')\n",
    "    print(f'channel names (metals): {acquisition.channel_names[1]}')\n",
    "    print(f'channel labels (targets): {acquisition.channel_labels[1]}')"
   ]
  },
  {
   "cell_type": "markdown",
   "metadata": {},
   "source": [
    "### Reading slide images\n",
    "\n",
    "IMC .mcd files can store slide images uploaded by the user (e.g., photographs) or acquired by the instrument. For supported image file formats, these images can be read as follows:"
   ]
  },
  {
   "cell_type": "code",
   "execution_count": 7,
   "metadata": {},
   "outputs": [
    {
     "name": "stdout",
     "output_type": "stream",
     "text": [
      "(793, 2389, 4) uint8\n"
     ]
    }
   ],
   "source": [
    "with MCDFile(mcd_fn) as f:\n",
    "    panorama = f.slides[0].panoramas[0]  # first panorama of first slide\n",
    "    img = f.read_panorama(panorama)  # numpy array\n",
    "\n",
    "print(img.shape, img.dtype)"
   ]
  },
  {
   "cell_type": "markdown",
   "metadata": {},
   "source": [
    "### Reading panorama images\n",
    "\n",
    "IMC .mcd files can contain zero or more panorama images acquired by the instrument, which can be read as follows:"
   ]
  },
  {
   "cell_type": "code",
   "execution_count": 8,
   "metadata": {},
   "outputs": [
    {
     "name": "stdout",
     "output_type": "stream",
     "text": [
      "(793, 2389, 4) uint8\n"
     ]
    }
   ],
   "source": [
    "with MCDFile(mcd_fn) as f:\n",
    "    panorama = f.slides[0].panoramas[0]  # first panorama of first slide\n",
    "    img = f.read_panorama(panorama)  # numpy array\n",
    "\n",
    "print(img.shape, img.dtype)"
   ]
  },
  {
   "cell_type": "markdown",
   "metadata": {},
   "source": [
    "### Reading IMC acquisitions\n",
    "\n",
    "IMC .mcd files can contain zero or more IMC acquisitions, which can be read as follows:"
   ]
  },
  {
   "cell_type": "code",
   "execution_count": 9,
   "metadata": {},
   "outputs": [
    {
     "name": "stdout",
     "output_type": "stream",
     "text": [
      "(47, 600, 600) float32\n"
     ]
    }
   ],
   "source": [
    "with MCDFile(mcd_fn) as f:\n",
    "    acquisition = f.slides[0].acquisitions[0]  # first acquisition of first slide\n",
    "    img = f.read_acquisition(acquisition)  # array, shape: (c, y, x), dtype: float32\n",
    "\n",
    "print(img.shape, img.dtype)"
   ]
  },
  {
   "cell_type": "markdown",
   "metadata": {},
   "source": [
    "### Reading before/after-ablation images\n",
    "\n",
    "The IMC instrument may be configured to acquire an optical image before/after each IMC acquisition. If available, these before/after-ablation images can be read as follows:"
   ]
  },
  {
   "cell_type": "code",
   "execution_count": 10,
   "metadata": {},
   "outputs": [
    {
     "name": "stdout",
     "output_type": "stream",
     "text": [
      "None\n",
      "None\n"
     ]
    }
   ],
   "source": [
    "with MCDFile(mcd_fn) as f:\n",
    "    acquisition = f.slides[0].acquisitions[0]  # first acquisition of first slide\n",
    "    before_ablation_img = f.read_before_ablation_image(acquisition)  # array or None\n",
    "    after_ablation_img = f.read_after_ablation_image(acquisition)  # array or None\n",
    "\n",
    "print(before_ablation_img)\n",
    "print(after_ablation_img)"
   ]
  },
  {
   "cell_type": "markdown",
   "metadata": {},
   "source": [
    "## Visualize IMC data using napari / napari-imc\n",
    "\n",
    "- Multi-dimensional image viewer for Python\n",
    "- Over 250 plugins available via https://www.napari-hub.org \n",
    "- Natively reads TIFF files; reads MCD/HDF5/Zarr/OME-NGFF via plugins\n",
    "- “Scriptable”: napari can be controlled using Python (e.g. Jupyter notebooks)\n",
    "\n",
    "\n",
    "See:\n",
    "- https://napari.org/stable/tutorials/fundamentals/getting_started.html\n",
    "\n",
    "- https://docs.google.com/presentation/d/1IUnl2lz3iU_D_0grOAbYyBeVrPQDU1dI-RHlX0dt4ko/edit#slide=id.p"
   ]
  },
  {
   "cell_type": "code",
   "execution_count": 11,
   "metadata": {},
   "outputs": [],
   "source": [
    "import napari\n",
    "\n",
    "# import sample data\n",
    "from skimage import data\n",
    "from skimage.data import cells3d\n"
   ]
  },
  {
   "cell_type": "code",
   "execution_count": 12,
   "metadata": {},
   "outputs": [],
   "source": [
    "# viewer = napari.view_image(data.moon())"
   ]
  },
  {
   "cell_type": "code",
   "execution_count": 78,
   "metadata": {},
   "outputs": [],
   "source": [
    "# create a `Viewer` and `Image` layer here\n",
    "# viewer, image_layer = napari.imshow(cells3d())"
   ]
  },
  {
   "cell_type": "code",
   "execution_count": 13,
   "metadata": {},
   "outputs": [
    {
     "name": "stdout",
     "output_type": "stream",
     "text": [
      "\u001b[0;31mSignature:\u001b[0m\n",
      "\u001b[0mnapari\u001b[0m\u001b[0;34m.\u001b[0m\u001b[0mview_image\u001b[0m\u001b[0;34m(\u001b[0m\u001b[0;34m\u001b[0m\n",
      "\u001b[0;34m\u001b[0m    \u001b[0mdata\u001b[0m\u001b[0;34m=\u001b[0m\u001b[0;32mNone\u001b[0m\u001b[0;34m,\u001b[0m\u001b[0;34m\u001b[0m\n",
      "\u001b[0;34m\u001b[0m    \u001b[0;34m*\u001b[0m\u001b[0;34m,\u001b[0m\u001b[0;34m\u001b[0m\n",
      "\u001b[0;34m\u001b[0m    \u001b[0mchannel_axis\u001b[0m\u001b[0;34m=\u001b[0m\u001b[0;32mNone\u001b[0m\u001b[0;34m,\u001b[0m\u001b[0;34m\u001b[0m\n",
      "\u001b[0;34m\u001b[0m    \u001b[0mrgb\u001b[0m\u001b[0;34m=\u001b[0m\u001b[0;32mNone\u001b[0m\u001b[0;34m,\u001b[0m\u001b[0;34m\u001b[0m\n",
      "\u001b[0;34m\u001b[0m    \u001b[0mcolormap\u001b[0m\u001b[0;34m=\u001b[0m\u001b[0;32mNone\u001b[0m\u001b[0;34m,\u001b[0m\u001b[0;34m\u001b[0m\n",
      "\u001b[0;34m\u001b[0m    \u001b[0mcontrast_limits\u001b[0m\u001b[0;34m=\u001b[0m\u001b[0;32mNone\u001b[0m\u001b[0;34m,\u001b[0m\u001b[0;34m\u001b[0m\n",
      "\u001b[0;34m\u001b[0m    \u001b[0mgamma\u001b[0m\u001b[0;34m=\u001b[0m\u001b[0;36m1\u001b[0m\u001b[0;34m,\u001b[0m\u001b[0;34m\u001b[0m\n",
      "\u001b[0;34m\u001b[0m    \u001b[0minterpolation2d\u001b[0m\u001b[0;34m=\u001b[0m\u001b[0;34m'nearest'\u001b[0m\u001b[0;34m,\u001b[0m\u001b[0;34m\u001b[0m\n",
      "\u001b[0;34m\u001b[0m    \u001b[0minterpolation3d\u001b[0m\u001b[0;34m=\u001b[0m\u001b[0;34m'linear'\u001b[0m\u001b[0;34m,\u001b[0m\u001b[0;34m\u001b[0m\n",
      "\u001b[0;34m\u001b[0m    \u001b[0mrendering\u001b[0m\u001b[0;34m=\u001b[0m\u001b[0;34m'mip'\u001b[0m\u001b[0;34m,\u001b[0m\u001b[0;34m\u001b[0m\n",
      "\u001b[0;34m\u001b[0m    \u001b[0mdepiction\u001b[0m\u001b[0;34m=\u001b[0m\u001b[0;34m'volume'\u001b[0m\u001b[0;34m,\u001b[0m\u001b[0;34m\u001b[0m\n",
      "\u001b[0;34m\u001b[0m    \u001b[0miso_threshold\u001b[0m\u001b[0;34m=\u001b[0m\u001b[0;32mNone\u001b[0m\u001b[0;34m,\u001b[0m\u001b[0;34m\u001b[0m\n",
      "\u001b[0;34m\u001b[0m    \u001b[0mattenuation\u001b[0m\u001b[0;34m=\u001b[0m\u001b[0;36m0.05\u001b[0m\u001b[0;34m,\u001b[0m\u001b[0;34m\u001b[0m\n",
      "\u001b[0;34m\u001b[0m    \u001b[0mname\u001b[0m\u001b[0;34m=\u001b[0m\u001b[0;32mNone\u001b[0m\u001b[0;34m,\u001b[0m\u001b[0;34m\u001b[0m\n",
      "\u001b[0;34m\u001b[0m    \u001b[0mmetadata\u001b[0m\u001b[0;34m=\u001b[0m\u001b[0;32mNone\u001b[0m\u001b[0;34m,\u001b[0m\u001b[0;34m\u001b[0m\n",
      "\u001b[0;34m\u001b[0m    \u001b[0mscale\u001b[0m\u001b[0;34m=\u001b[0m\u001b[0;32mNone\u001b[0m\u001b[0;34m,\u001b[0m\u001b[0;34m\u001b[0m\n",
      "\u001b[0;34m\u001b[0m    \u001b[0mtranslate\u001b[0m\u001b[0;34m=\u001b[0m\u001b[0;32mNone\u001b[0m\u001b[0;34m,\u001b[0m\u001b[0;34m\u001b[0m\n",
      "\u001b[0;34m\u001b[0m    \u001b[0mrotate\u001b[0m\u001b[0;34m=\u001b[0m\u001b[0;32mNone\u001b[0m\u001b[0;34m,\u001b[0m\u001b[0;34m\u001b[0m\n",
      "\u001b[0;34m\u001b[0m    \u001b[0mshear\u001b[0m\u001b[0;34m=\u001b[0m\u001b[0;32mNone\u001b[0m\u001b[0;34m,\u001b[0m\u001b[0;34m\u001b[0m\n",
      "\u001b[0;34m\u001b[0m    \u001b[0maffine\u001b[0m\u001b[0;34m=\u001b[0m\u001b[0;32mNone\u001b[0m\u001b[0;34m,\u001b[0m\u001b[0;34m\u001b[0m\n",
      "\u001b[0;34m\u001b[0m    \u001b[0mopacity\u001b[0m\u001b[0;34m=\u001b[0m\u001b[0;36m1\u001b[0m\u001b[0;34m,\u001b[0m\u001b[0;34m\u001b[0m\n",
      "\u001b[0;34m\u001b[0m    \u001b[0mblending\u001b[0m\u001b[0;34m=\u001b[0m\u001b[0;32mNone\u001b[0m\u001b[0;34m,\u001b[0m\u001b[0;34m\u001b[0m\n",
      "\u001b[0;34m\u001b[0m    \u001b[0mvisible\u001b[0m\u001b[0;34m=\u001b[0m\u001b[0;32mTrue\u001b[0m\u001b[0;34m,\u001b[0m\u001b[0;34m\u001b[0m\n",
      "\u001b[0;34m\u001b[0m    \u001b[0mmultiscale\u001b[0m\u001b[0;34m=\u001b[0m\u001b[0;32mNone\u001b[0m\u001b[0;34m,\u001b[0m\u001b[0;34m\u001b[0m\n",
      "\u001b[0;34m\u001b[0m    \u001b[0mcache\u001b[0m\u001b[0;34m=\u001b[0m\u001b[0;32mTrue\u001b[0m\u001b[0;34m,\u001b[0m\u001b[0;34m\u001b[0m\n",
      "\u001b[0;34m\u001b[0m    \u001b[0mplane\u001b[0m\u001b[0;34m=\u001b[0m\u001b[0;32mNone\u001b[0m\u001b[0;34m,\u001b[0m\u001b[0;34m\u001b[0m\n",
      "\u001b[0;34m\u001b[0m    \u001b[0mexperimental_clipping_planes\u001b[0m\u001b[0;34m=\u001b[0m\u001b[0;32mNone\u001b[0m\u001b[0;34m,\u001b[0m\u001b[0;34m\u001b[0m\n",
      "\u001b[0;34m\u001b[0m    \u001b[0mcustom_interpolation_kernel_2d\u001b[0m\u001b[0;34m=\u001b[0m\u001b[0;32mNone\u001b[0m\u001b[0;34m,\u001b[0m\u001b[0;34m\u001b[0m\n",
      "\u001b[0;34m\u001b[0m    \u001b[0mtitle\u001b[0m\u001b[0;34m=\u001b[0m\u001b[0;34m'napari'\u001b[0m\u001b[0;34m,\u001b[0m\u001b[0;34m\u001b[0m\n",
      "\u001b[0;34m\u001b[0m    \u001b[0mndisplay\u001b[0m\u001b[0;34m=\u001b[0m\u001b[0;36m2\u001b[0m\u001b[0;34m,\u001b[0m\u001b[0;34m\u001b[0m\n",
      "\u001b[0;34m\u001b[0m    \u001b[0morder\u001b[0m\u001b[0;34m=\u001b[0m\u001b[0;34m(\u001b[0m\u001b[0;34m)\u001b[0m\u001b[0;34m,\u001b[0m\u001b[0;34m\u001b[0m\n",
      "\u001b[0;34m\u001b[0m    \u001b[0maxis_labels\u001b[0m\u001b[0;34m=\u001b[0m\u001b[0;34m(\u001b[0m\u001b[0;34m)\u001b[0m\u001b[0;34m,\u001b[0m\u001b[0;34m\u001b[0m\n",
      "\u001b[0;34m\u001b[0m    \u001b[0mshow\u001b[0m\u001b[0;34m=\u001b[0m\u001b[0;32mTrue\u001b[0m\u001b[0;34m,\u001b[0m\u001b[0;34m\u001b[0m\n",
      "\u001b[0;34m\u001b[0m\u001b[0;34m)\u001b[0m \u001b[0;34m->\u001b[0m \u001b[0mnapari\u001b[0m\u001b[0;34m.\u001b[0m\u001b[0mviewer\u001b[0m\u001b[0;34m.\u001b[0m\u001b[0mViewer\u001b[0m\u001b[0;34m\u001b[0m\u001b[0;34m\u001b[0m\u001b[0m\n",
      "\u001b[0;31mDocstring:\u001b[0m\n",
      "Create a viewer and add an image layer.\n",
      "\n",
      "Parameters\n",
      "----------\n",
      "data : array or list of array\n",
      "    Image data. Can be N >= 2 dimensional. If the last dimension has length\n",
      "    3 or 4 can be interpreted as RGB or RGBA if rgb is `True`. If a\n",
      "    list and arrays are decreasing in shape then the data is treated as\n",
      "    a multiscale image. Please note multiscale rendering is only\n",
      "    supported in 2D. In 3D, only the lowest resolution scale is\n",
      "    displayed.\n",
      "channel_axis : int, optional\n",
      "    Axis to expand image along.  If provided, each channel in the data\n",
      "    will be added as an individual image layer.  In channel_axis mode,\n",
      "    all other parameters MAY be provided as lists, and the Nth value\n",
      "    will be applied to the Nth channel in the data.  If a single value\n",
      "    is provided, it will be broadcast to all Layers.\n",
      "rgb : bool or list\n",
      "    Whether the image is rgb RGB or RGBA. If not specified by user and\n",
      "    the last dimension of the data has length 3 or 4 it will be set as\n",
      "    `True`. If `False` the image is interpreted as a luminance image.\n",
      "    If a list then must be same length as the axis that is being\n",
      "    expanded as channels.\n",
      "colormap : str, napari.utils.Colormap, tuple, dict, list\n",
      "    Colormaps to use for luminance images. If a string must be the name\n",
      "    of a supported colormap from vispy or matplotlib. If a tuple the\n",
      "    first value must be a string to assign as a name to a colormap and\n",
      "    the second item must be a Colormap. If a dict the key must be a\n",
      "    string to assign as a name to a colormap and the value must be a\n",
      "    Colormap. If a list then must be same length as the axis that is\n",
      "    being expanded as channels, and each colormap is applied to each\n",
      "    new image layer.\n",
      "contrast_limits : list (2,)\n",
      "    Color limits to be used for determining the colormap bounds for\n",
      "    luminance images. If not passed is calculated as the min and max of\n",
      "    the image. If list of lists then must be same length as the axis\n",
      "    that is being expanded and then each colormap is applied to each\n",
      "    image.\n",
      "gamma : list, float\n",
      "    Gamma correction for determining colormap linearity. Defaults to 1.\n",
      "    If a list then must be same length as the axis that is being\n",
      "    expanded as channels.\n",
      "interpolation : str or list\n",
      "    Deprecated, to be removed in 0.6.0\n",
      "interpolation2d : str or list\n",
      "    Interpolation mode used by vispy in 2D. Must be one of our supported\n",
      "    modes. If a list then must be same length as the axis that is being\n",
      "    expanded as channels.\n",
      "interpolation3d : str or list\n",
      "    Interpolation mode used by vispy in 3D. Must be one of our supported\n",
      "    modes. If a list then must be same length as the axis that is being\n",
      "    expanded as channels.\n",
      "rendering : str or list\n",
      "    Rendering mode used by vispy. Must be one of our supported\n",
      "    modes. If a list then must be same length as the axis that is being\n",
      "    expanded as channels.\n",
      "depiction : str\n",
      "    Selects a preset volume depiction mode in vispy\n",
      "\n",
      "    * volume: images are rendered as 3D volumes.\n",
      "    * plane: images are rendered as 2D planes embedded in 3D.\n",
      "iso_threshold : float or list\n",
      "    Threshold for isosurface. If a list then must be same length as the\n",
      "    axis that is being expanded as channels.\n",
      "attenuation : float or list\n",
      "    Attenuation rate for attenuated maximum intensity projection. If a\n",
      "    list then must be same length as the axis that is being expanded as\n",
      "    channels.\n",
      "name : str or list of str\n",
      "    Name of the layer.  If a list then must be same length as the axis\n",
      "    that is being expanded as channels.\n",
      "metadata : dict or list of dict\n",
      "    Layer metadata. If a list then must be a list of dicts with the\n",
      "    same length as the axis that is being expanded as channels.\n",
      "scale : tuple of float or list\n",
      "    Scale factors for the layer. If a list then must be a list of\n",
      "    tuples of float with the same length as the axis that is being\n",
      "    expanded as channels.\n",
      "translate : tuple of float or list\n",
      "    Translation values for the layer. If a list then must be a list of\n",
      "    tuples of float with the same length as the axis that is being\n",
      "    expanded as channels.\n",
      "rotate : float, 3-tuple of float, n-D array or list.\n",
      "    If a float convert into a 2D rotation matrix using that value as an\n",
      "    angle. If 3-tuple convert into a 3D rotation matrix, using a yaw,\n",
      "    pitch, roll convention. Otherwise assume an nD rotation. Angles are\n",
      "    assumed to be in degrees. They can be converted from radians with\n",
      "    np.degrees if needed. If a list then must have same length as\n",
      "    the axis that is being expanded as channels.\n",
      "shear : 1-D array or list.\n",
      "    A vector of shear values for an upper triangular n-D shear matrix.\n",
      "    If a list then must have same length as the axis that is being\n",
      "    expanded as channels.\n",
      "affine : n-D array or napari.utils.transforms.Affine\n",
      "    (N+1, N+1) affine transformation matrix in homogeneous coordinates.\n",
      "    The first (N, N) entries correspond to a linear transform and\n",
      "    the final column is a length N translation vector and a 1 or a\n",
      "    napari `Affine` transform object. Applied as an extra transform on\n",
      "    top of the provided scale, rotate, and shear values.\n",
      "opacity : float or list\n",
      "    Opacity of the layer visual, between 0.0 and 1.0.  If a list then\n",
      "    must be same length as the axis that is being expanded as channels.\n",
      "blending : str or list\n",
      "    One of a list of preset blending modes that determines how RGB and\n",
      "    alpha values of the layer visual get mixed. Allowed values are\n",
      "    {'opaque', 'translucent', and 'additive'}. If a list then\n",
      "    must be same length as the axis that is being expanded as channels.\n",
      "visible : bool or list of bool\n",
      "    Whether the layer visual is currently being displayed.\n",
      "    If a list then must be same length as the axis that is\n",
      "    being expanded as channels.\n",
      "multiscale : bool\n",
      "    Whether the data is a multiscale image or not. Multiscale data is\n",
      "    represented by a list of array like image data. If not specified by\n",
      "    the user and if the data is a list of arrays that decrease in shape\n",
      "    then it will be taken to be multiscale. The first image in the list\n",
      "    should be the largest. Please note multiscale rendering is only\n",
      "    supported in 2D. In 3D, only the lowest resolution scale is\n",
      "    displayed.\n",
      "cache : bool\n",
      "    Whether slices of out-of-core datasets should be cached upon\n",
      "    retrieval. Currently, this only applies to dask arrays.\n",
      "plane : dict or SlicingPlane\n",
      "    Properties defining plane rendering in 3D. Properties are defined in\n",
      "    data coordinates. Valid dictionary keys are\n",
      "    {'position', 'normal', 'thickness', and 'enabled'}.\n",
      "experimental_clipping_planes : list of dicts, list of ClippingPlane, or ClippingPlaneList\n",
      "    Each dict defines a clipping plane in 3D in data coordinates.\n",
      "    Valid dictionary keys are {'position', 'normal', and 'enabled'}.\n",
      "    Values on the negative side of the normal are discarded if the plane is enabled.\n",
      "custom_interpolation_kernel_2d : np.ndarray\n",
      "    Convolution kernel used with the 'custom' interpolation mode in 2D rendering.\n",
      "    title : string, optional\n",
      "    The title of the viewer window. By default 'napari'.\n",
      "ndisplay : {2, 3}, optional\n",
      "    Number of displayed dimensions. By default 2.\n",
      "order : tuple of int, optional\n",
      "    Order in which dimensions are displayed where the last two or last\n",
      "    three dimensions correspond to row x column or plane x row x column if\n",
      "    ndisplay is 2 or 3. By default None\n",
      "axis_labels : list of str, optional\n",
      "    Dimension names. By default they are labeled with sequential numbers\n",
      "show : bool, optional\n",
      "    Whether to show the viewer after instantiation. By default True.\n",
      "\n",
      "\n",
      "Returns\n",
      "-------\n",
      "viewer : :class:`napari.Viewer`\n",
      "    The newly-created viewer.\n",
      "\u001b[0;31mFile:\u001b[0m      ~/opt/anaconda3/envs/bmed365imc/lib/python3.11/site-packages/napari/view_layers.py\n",
      "\u001b[0;31mType:\u001b[0m      function"
     ]
    }
   ],
   "source": [
    "?napari.view_image\n"
   ]
  },
  {
   "cell_type": "code",
   "execution_count": 14,
   "metadata": {},
   "outputs": [
    {
     "name": "stdout",
     "output_type": "stream",
     "text": [
      "(47, 600, 600) float32\n"
     ]
    }
   ],
   "source": [
    "with MCDFile(mcd_fn) as f:\n",
    "    acquisition = f.slides[0].acquisitions[0]  # first acquisition of first slide\n",
    "    img = f.read_acquisition(acquisition)  # array, shape: (c, y, x), dtype: float32\n",
    "\n",
    "print(img.shape, img.dtype)\n",
    "\n",
    "chn = 9\n",
    "min_value = np.min(img[chn])\n",
    "max_value = np.max(img[chn])\n",
    "contrast_stretched_image = (img[chn] - min_value) / (max_value - min_value)\n",
    "\n",
    "viewer = napari.view_image(contrast_stretched_image, gamma=1.0, \n",
    "                           title=f\"{mcd_fn} - chn:{chn}, {acquisition.description}, {img[chn].shape}, name (metal): {acquisition.channel_names[chn]}, label (target): {acquisition.channel_labels[chn]} \")\n",
    "# viewer.layers.selection.active.mode = 'transform'\n"
   ]
  },
  {
   "cell_type": "markdown",
   "metadata": {},
   "source": []
  }
 ],
 "metadata": {
  "kernelspec": {
   "display_name": "bmed365imc",
   "language": "python",
   "name": "python3"
  },
  "language_info": {
   "codemirror_mode": {
    "name": "ipython",
    "version": 3
   },
   "file_extension": ".py",
   "mimetype": "text/x-python",
   "name": "python",
   "nbconvert_exporter": "python",
   "pygments_lexer": "ipython3",
   "version": "3.11.7"
  }
 },
 "nbformat": 4,
 "nbformat_minor": 2
}
